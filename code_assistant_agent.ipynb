{
 "cells": [
  {
   "cell_type": "code",
   "execution_count": 1,
   "metadata": {},
   "outputs": [],
   "source": [
    "!python3 -m pip install --upgrade -q boto3\n",
    "!python3 -m pip install --upgrade -q botocore\n",
    "!python3 -m pip install --upgrade -q awscli"
   ]
  },
  {
   "cell_type": "code",
   "execution_count": null,
   "metadata": {},
   "outputs": [],
   "source": [
    "!python3 -m pip install pandas"
   ]
  },
  {
   "cell_type": "code",
   "execution_count": null,
   "metadata": {},
   "outputs": [],
   "source": [
    "!python3 -m pip install numpy"
   ]
  },
  {
   "cell_type": "code",
   "execution_count": 8,
   "metadata": {},
   "outputs": [
    {
     "name": "stdout",
     "output_type": "stream",
     "text": [
      "1.38.24\n",
      "1.38.24\n",
      "1.40.23\n"
     ]
    }
   ],
   "source": [
    "import boto3\n",
    "import botocore\n",
    "import awscli\n",
    "print(boto3.__version__)\n",
    "print(botocore.__version__)\n",
    "print(awscli.__version__)"
   ]
  },
  {
   "cell_type": "code",
   "execution_count": 10,
   "metadata": {},
   "outputs": [],
   "source": [
    "import json\n",
    "import time\n",
    "from io import BytesIO\n",
    "import uuid\n",
    "import pprint\n",
    "import logging"
   ]
  },
  {
   "cell_type": "code",
   "execution_count": 11,
   "metadata": {},
   "outputs": [],
   "source": [
    "# setting logger\n",
    "logging.basicConfig(format='[%(asctime)s] p%(process)s {%(filename)s:%(lineno)d} %(levelname)s - %(message)s', level=logging.INFO)\n",
    "logger = logging.getLogger(__name__)"
   ]
  },
  {
   "cell_type": "code",
   "execution_count": 12,
   "metadata": {},
   "outputs": [
    {
     "name": "stderr",
     "output_type": "stream",
     "text": [
      "[2025-05-30 16:42:05,463] p39065 {credentials.py:1352} INFO - Found credentials in shared credentials file: ~/.aws/credentials\n"
     ]
    }
   ],
   "source": [
    "# getting boto3 clients for required AWS services\n",
    "sts_client = boto3.client('sts')\n",
    "iam_client = boto3.client('iam')\n",
    "lambda_client = boto3.client('lambda')\n",
    "bedrock_agent_client = boto3.client(\"bedrock-agent\")\n",
    "bedrock_agent_runtime_client = boto3.client(\"bedrock-agent-runtime\")"
   ]
  },
  {
   "cell_type": "code",
   "execution_count": 13,
   "metadata": {},
   "outputs": [
    {
     "name": "stderr",
     "output_type": "stream",
     "text": [
      "[2025-05-30 16:42:10,485] p39065 {credentials.py:1352} INFO - Found credentials in shared credentials file: ~/.aws/credentials\n"
     ]
    },
    {
     "data": {
      "text/plain": [
       "('us-east-1', '442120074911')"
      ]
     },
     "execution_count": 13,
     "metadata": {},
     "output_type": "execute_result"
    }
   ],
   "source": [
    "import boto3\n",
    "\n",
    "session = boto3.Session()\n",
    "\n",
    "sts_client = session.client('sts')\n",
    "region = session.region_name\n",
    "account_id = sts_client.get_caller_identity()[\"Account\"]\n",
    "\n",
    "region, account_id"
   ]
  },
  {
   "cell_type": "code",
   "execution_count": 15,
   "metadata": {},
   "outputs": [],
   "source": [
    "# configuration variables\n",
    "suffix = f\"{region}-{account_id}\"\n",
    "agent_name = \"assistant-w-code-interpret\"\n",
    "agent_bedrock_allow_policy_name = f\"{agent_name}-ba-{suffix}\"\n",
    "agent_role_name = f\"AmazonBedrockExecutionRoleAgents_{agent_name}\"\n",
    "agent_foundational_model = \"amazon.nova-pro-v1:0\"\n",
    "agent_description = \"Assistant with code interpreter that can write and execute code to answer questions\"\n",
    "agent_instructions = \"\"\" You are an assistant that helps customers answer questions and create documents.\n",
    "You have access to code interpreter to execute Python code, so when tasks are best handled via Python code, \n",
    "write code as needed and pass it to code interpreter to execute, then return the result to the user.\n",
    "\"\"\"\n",
    "agent_alias_name = f\"{agent_name}-alias\""
   ]
  },
  {
   "cell_type": "markdown",
   "metadata": {},
   "source": [
    "### Create synthetic stock price data"
   ]
  },
  {
   "cell_type": "code",
   "execution_count": 12,
   "metadata": {},
   "outputs": [],
   "source": [
    "import pandas as pd\n",
    "import numpy as np\n",
    "from datetime import datetime, timedelta\n",
    "\n",
    "def make_synthetic_stock_data(filename):\n",
    "\n",
    "    start_date = datetime(2023, 6, 27)\n",
    "    end_date = datetime(2024, 6, 27)\n",
    "\n",
    "    date_range = pd.date_range(start_date, end_date, freq='D')\n",
    "\n",
    "    symbol = []\n",
    "    dates = []\n",
    "    open_prices = []\n",
    "    close_prices = []\n",
    "    high_prices = []\n",
    "    low_prices = []\n",
    "    adj_close_prices = []\n",
    "    volumes = []\n",
    "\n",
    "    initial_price = 100.0\n",
    "\n",
    "    for date in date_range:\n",
    "        symbol.append('FAKECO')\n",
    "        dates.append(date)\n",
    "        open_price = np.round(initial_price + np.random.uniform(-1, 1), 2)\n",
    "        high_price = np.round(open_price + np.random.uniform(0, 5), 2)\n",
    "        low_price = np.round(open_price - np.random.uniform(0, 5), 2)\n",
    "        close_price = np.round(np.random.uniform(low_price, high_price), 2)\n",
    "        adj_close_price = close_price\n",
    "        volume = np.random.randint(1000, 10000000)\n",
    "\n",
    "        open_prices.append(open_price)\n",
    "        high_prices.append(high_price)\n",
    "        low_prices.append(low_price)\n",
    "        close_prices.append(close_price)\n",
    "        adj_close_prices.append(adj_close_price)\n",
    "        volumes.append(volume)\n",
    "\n",
    "        initial_price = close_price\n",
    "    \n",
    "    data = {\n",
    "        'Symbol': symbol,\n",
    "        'Date': dates,\n",
    "        'Open': open_prices,\n",
    "        'Close': close_prices,\n",
    "        'High': high_prices,\n",
    "        'Low': low_prices,\n",
    "        'Adj Close': close_prices,\n",
    "        'Volume': volumes\n",
    "    }\n",
    "\n",
    "    stock_data = pd.DataFrame(data)\n",
    "\n",
    "    stock_data.to_csv(filename, index=False)"
   ]
  },
  {
   "cell_type": "code",
   "execution_count": 24,
   "metadata": {},
   "outputs": [],
   "source": [
    "import os\n",
    "\n",
    "if not os.path.exists('output'):\n",
    "    os.mkdir('output')\n",
    "\n",
    "stock_file = os.path.join('output', 'FAKECO.csv')\n",
    "\n",
    "if not os.path.exists(stock_file):\n",
    "    make_synthetic_stock_data(stock_file)"
   ]
  },
  {
   "cell_type": "markdown",
   "metadata": {},
   "source": [
    "### Create IAM Policy and Role"
   ]
  },
  {
   "cell_type": "code",
   "execution_count": 17,
   "metadata": {},
   "outputs": [
    {
     "ename": "EntityAlreadyExistsException",
     "evalue": "An error occurred (EntityAlreadyExists) when calling the CreatePolicy operation: A policy called assistant-w-code-interpret-ba-us-east-1-442120074911 already exists. Duplicate names are not allowed.",
     "output_type": "error",
     "traceback": [
      "\u001b[31m---------------------------------------------------------------------------\u001b[39m",
      "\u001b[31mEntityAlreadyExistsException\u001b[39m              Traceback (most recent call last)",
      "\u001b[36mCell\u001b[39m\u001b[36m \u001b[39m\u001b[32mIn[17]\u001b[39m\u001b[32m, line 19\u001b[39m\n\u001b[32m      3\u001b[39m bedrock_agent_bedrock_allow_policy_statement = {\n\u001b[32m      4\u001b[39m     \u001b[33m\"\u001b[39m\u001b[33mVersion\u001b[39m\u001b[33m\"\u001b[39m: \u001b[33m\"\u001b[39m\u001b[33m2012-10-17\u001b[39m\u001b[33m\"\u001b[39m,\n\u001b[32m      5\u001b[39m     \u001b[33m\"\u001b[39m\u001b[33mStatement\u001b[39m\u001b[33m\"\u001b[39m: [\n\u001b[32m   (...)\u001b[39m\u001b[32m     14\u001b[39m     ]\n\u001b[32m     15\u001b[39m }\n\u001b[32m     17\u001b[39m bedrock_policy_json = json.dumps(bedrock_agent_bedrock_allow_policy_statement)\n\u001b[32m---> \u001b[39m\u001b[32m19\u001b[39m agent_bedrock_policy = \u001b[43miam_client\u001b[49m\u001b[43m.\u001b[49m\u001b[43mcreate_policy\u001b[49m\u001b[43m(\u001b[49m\n\u001b[32m     20\u001b[39m \u001b[43m    \u001b[49m\u001b[43mPolicyName\u001b[49m\u001b[43m=\u001b[49m\u001b[43magent_bedrock_allow_policy_name\u001b[49m\u001b[43m,\u001b[49m\n\u001b[32m     21\u001b[39m \u001b[43m    \u001b[49m\u001b[43mPolicyDocument\u001b[49m\u001b[43m=\u001b[49m\u001b[43mbedrock_policy_json\u001b[49m\n\u001b[32m     22\u001b[39m \u001b[43m)\u001b[49m\n",
      "\u001b[36mFile \u001b[39m\u001b[32m~/Documents/Example_Agents/venv/lib/python3.13/site-packages/botocore/client.py:595\u001b[39m, in \u001b[36mClientCreator._create_api_method.<locals>._api_call\u001b[39m\u001b[34m(self, *args, **kwargs)\u001b[39m\n\u001b[32m    591\u001b[39m     \u001b[38;5;28;01mraise\u001b[39;00m \u001b[38;5;167;01mTypeError\u001b[39;00m(\n\u001b[32m    592\u001b[39m         \u001b[33mf\u001b[39m\u001b[33m\"\u001b[39m\u001b[38;5;132;01m{\u001b[39;00mpy_operation_name\u001b[38;5;132;01m}\u001b[39;00m\u001b[33m() only accepts keyword arguments.\u001b[39m\u001b[33m\"\u001b[39m\n\u001b[32m    593\u001b[39m     )\n\u001b[32m    594\u001b[39m \u001b[38;5;66;03m# The \"self\" in this scope is referring to the BaseClient.\u001b[39;00m\n\u001b[32m--> \u001b[39m\u001b[32m595\u001b[39m \u001b[38;5;28;01mreturn\u001b[39;00m \u001b[38;5;28;43mself\u001b[39;49m\u001b[43m.\u001b[49m\u001b[43m_make_api_call\u001b[49m\u001b[43m(\u001b[49m\u001b[43moperation_name\u001b[49m\u001b[43m,\u001b[49m\u001b[43m \u001b[49m\u001b[43mkwargs\u001b[49m\u001b[43m)\u001b[49m\n",
      "\u001b[36mFile \u001b[39m\u001b[32m~/Documents/Example_Agents/venv/lib/python3.13/site-packages/botocore/context.py:123\u001b[39m, in \u001b[36mwith_current_context.<locals>.decorator.<locals>.wrapper\u001b[39m\u001b[34m(*args, **kwargs)\u001b[39m\n\u001b[32m    121\u001b[39m \u001b[38;5;28;01mif\u001b[39;00m hook:\n\u001b[32m    122\u001b[39m     hook()\n\u001b[32m--> \u001b[39m\u001b[32m123\u001b[39m \u001b[38;5;28;01mreturn\u001b[39;00m \u001b[43mfunc\u001b[49m\u001b[43m(\u001b[49m\u001b[43m*\u001b[49m\u001b[43margs\u001b[49m\u001b[43m,\u001b[49m\u001b[43m \u001b[49m\u001b[43m*\u001b[49m\u001b[43m*\u001b[49m\u001b[43mkwargs\u001b[49m\u001b[43m)\u001b[49m\n",
      "\u001b[36mFile \u001b[39m\u001b[32m~/Documents/Example_Agents/venv/lib/python3.13/site-packages/botocore/client.py:1058\u001b[39m, in \u001b[36mBaseClient._make_api_call\u001b[39m\u001b[34m(self, operation_name, api_params)\u001b[39m\n\u001b[32m   1054\u001b[39m     error_code = error_info.get(\u001b[33m\"\u001b[39m\u001b[33mQueryErrorCode\u001b[39m\u001b[33m\"\u001b[39m) \u001b[38;5;129;01mor\u001b[39;00m error_info.get(\n\u001b[32m   1055\u001b[39m         \u001b[33m\"\u001b[39m\u001b[33mCode\u001b[39m\u001b[33m\"\u001b[39m\n\u001b[32m   1056\u001b[39m     )\n\u001b[32m   1057\u001b[39m     error_class = \u001b[38;5;28mself\u001b[39m.exceptions.from_code(error_code)\n\u001b[32m-> \u001b[39m\u001b[32m1058\u001b[39m     \u001b[38;5;28;01mraise\u001b[39;00m error_class(parsed_response, operation_name)\n\u001b[32m   1059\u001b[39m \u001b[38;5;28;01melse\u001b[39;00m:\n\u001b[32m   1060\u001b[39m     \u001b[38;5;28;01mreturn\u001b[39;00m parsed_response\n",
      "\u001b[31mEntityAlreadyExistsException\u001b[39m: An error occurred (EntityAlreadyExists) when calling the CreatePolicy operation: A policy called assistant-w-code-interpret-ba-us-east-1-442120074911 already exists. Duplicate names are not allowed."
     ]
    }
   ],
   "source": [
    "# Create IAM policies for agent\n",
    "\n",
    "bedrock_agent_bedrock_allow_policy_statement = {\n",
    "    \"Version\": \"2012-10-17\",\n",
    "    \"Statement\": [\n",
    "        {\n",
    "            \"Sid\": \"AmazonBedrockAgentBedrockFoundationModelPolicy\",\n",
    "            \"Effect\": \"Allow\",\n",
    "            \"Action\": \"bedrock:InvokeModel\",\n",
    "            \"Resource\": [\n",
    "                f\"arn:aws:bedrock:{region}::foundation-model/{agent_foundational_model}\"\n",
    "            ]\n",
    "        }\n",
    "    ]\n",
    "}\n",
    "\n",
    "bedrock_policy_json = json.dumps(bedrock_agent_bedrock_allow_policy_statement)\n",
    "\n",
    "agent_bedrock_policy = iam_client.create_policy(\n",
    "    PolicyName=agent_bedrock_allow_policy_name,\n",
    "    PolicyDocument=bedrock_policy_json\n",
    ")\n"
   ]
  },
  {
   "cell_type": "code",
   "execution_count": 18,
   "metadata": {},
   "outputs": [
    {
     "ename": "EntityAlreadyExistsException",
     "evalue": "An error occurred (EntityAlreadyExists) when calling the CreateRole operation: Role with name AmazonBedrockExecutionRoleAgents_assistant-w-code-interpret already exists.",
     "output_type": "error",
     "traceback": [
      "\u001b[31m---------------------------------------------------------------------------\u001b[39m",
      "\u001b[31mEntityAlreadyExistsException\u001b[39m              Traceback (most recent call last)",
      "\u001b[36mCell\u001b[39m\u001b[36m \u001b[39m\u001b[32mIn[18]\u001b[39m\u001b[32m, line 13\u001b[39m\n\u001b[32m      1\u001b[39m assume_role_policy_document = assume_role_policy_document = {\n\u001b[32m      2\u001b[39m     \u001b[33m\"\u001b[39m\u001b[33mVersion\u001b[39m\u001b[33m\"\u001b[39m: \u001b[33m\"\u001b[39m\u001b[33m2012-10-17\u001b[39m\u001b[33m\"\u001b[39m,\n\u001b[32m      3\u001b[39m     \u001b[33m\"\u001b[39m\u001b[33mStatement\u001b[39m\u001b[33m\"\u001b[39m: [{\n\u001b[32m   (...)\u001b[39m\u001b[32m      9\u001b[39m     }]\n\u001b[32m     10\u001b[39m }\n\u001b[32m     12\u001b[39m assume_role_policy_document_json = json.dumps(assume_role_policy_document)\n\u001b[32m---> \u001b[39m\u001b[32m13\u001b[39m agent_role = \u001b[43miam_client\u001b[49m\u001b[43m.\u001b[49m\u001b[43mcreate_role\u001b[49m\u001b[43m(\u001b[49m\n\u001b[32m     14\u001b[39m \u001b[43m    \u001b[49m\u001b[43mRoleName\u001b[49m\u001b[43m=\u001b[49m\u001b[43magent_role_name\u001b[49m\u001b[43m,\u001b[49m\n\u001b[32m     15\u001b[39m \u001b[43m    \u001b[49m\u001b[43mAssumeRolePolicyDocument\u001b[49m\u001b[43m=\u001b[49m\u001b[43massume_role_policy_document_json\u001b[49m\n\u001b[32m     16\u001b[39m \u001b[43m)\u001b[49m\n\u001b[32m     18\u001b[39m \u001b[38;5;66;03m# Pause to make sure role is created\u001b[39;00m\n\u001b[32m     19\u001b[39m time.sleep(\u001b[32m10\u001b[39m)\n",
      "\u001b[36mFile \u001b[39m\u001b[32m~/Documents/Example_Agents/venv/lib/python3.13/site-packages/botocore/client.py:595\u001b[39m, in \u001b[36mClientCreator._create_api_method.<locals>._api_call\u001b[39m\u001b[34m(self, *args, **kwargs)\u001b[39m\n\u001b[32m    591\u001b[39m     \u001b[38;5;28;01mraise\u001b[39;00m \u001b[38;5;167;01mTypeError\u001b[39;00m(\n\u001b[32m    592\u001b[39m         \u001b[33mf\u001b[39m\u001b[33m\"\u001b[39m\u001b[38;5;132;01m{\u001b[39;00mpy_operation_name\u001b[38;5;132;01m}\u001b[39;00m\u001b[33m() only accepts keyword arguments.\u001b[39m\u001b[33m\"\u001b[39m\n\u001b[32m    593\u001b[39m     )\n\u001b[32m    594\u001b[39m \u001b[38;5;66;03m# The \"self\" in this scope is referring to the BaseClient.\u001b[39;00m\n\u001b[32m--> \u001b[39m\u001b[32m595\u001b[39m \u001b[38;5;28;01mreturn\u001b[39;00m \u001b[38;5;28;43mself\u001b[39;49m\u001b[43m.\u001b[49m\u001b[43m_make_api_call\u001b[49m\u001b[43m(\u001b[49m\u001b[43moperation_name\u001b[49m\u001b[43m,\u001b[49m\u001b[43m \u001b[49m\u001b[43mkwargs\u001b[49m\u001b[43m)\u001b[49m\n",
      "\u001b[36mFile \u001b[39m\u001b[32m~/Documents/Example_Agents/venv/lib/python3.13/site-packages/botocore/context.py:123\u001b[39m, in \u001b[36mwith_current_context.<locals>.decorator.<locals>.wrapper\u001b[39m\u001b[34m(*args, **kwargs)\u001b[39m\n\u001b[32m    121\u001b[39m \u001b[38;5;28;01mif\u001b[39;00m hook:\n\u001b[32m    122\u001b[39m     hook()\n\u001b[32m--> \u001b[39m\u001b[32m123\u001b[39m \u001b[38;5;28;01mreturn\u001b[39;00m \u001b[43mfunc\u001b[49m\u001b[43m(\u001b[49m\u001b[43m*\u001b[49m\u001b[43margs\u001b[49m\u001b[43m,\u001b[49m\u001b[43m \u001b[49m\u001b[43m*\u001b[49m\u001b[43m*\u001b[49m\u001b[43mkwargs\u001b[49m\u001b[43m)\u001b[49m\n",
      "\u001b[36mFile \u001b[39m\u001b[32m~/Documents/Example_Agents/venv/lib/python3.13/site-packages/botocore/client.py:1058\u001b[39m, in \u001b[36mBaseClient._make_api_call\u001b[39m\u001b[34m(self, operation_name, api_params)\u001b[39m\n\u001b[32m   1054\u001b[39m     error_code = error_info.get(\u001b[33m\"\u001b[39m\u001b[33mQueryErrorCode\u001b[39m\u001b[33m\"\u001b[39m) \u001b[38;5;129;01mor\u001b[39;00m error_info.get(\n\u001b[32m   1055\u001b[39m         \u001b[33m\"\u001b[39m\u001b[33mCode\u001b[39m\u001b[33m\"\u001b[39m\n\u001b[32m   1056\u001b[39m     )\n\u001b[32m   1057\u001b[39m     error_class = \u001b[38;5;28mself\u001b[39m.exceptions.from_code(error_code)\n\u001b[32m-> \u001b[39m\u001b[32m1058\u001b[39m     \u001b[38;5;28;01mraise\u001b[39;00m error_class(parsed_response, operation_name)\n\u001b[32m   1059\u001b[39m \u001b[38;5;28;01melse\u001b[39;00m:\n\u001b[32m   1060\u001b[39m     \u001b[38;5;28;01mreturn\u001b[39;00m parsed_response\n",
      "\u001b[31mEntityAlreadyExistsException\u001b[39m: An error occurred (EntityAlreadyExists) when calling the CreateRole operation: Role with name AmazonBedrockExecutionRoleAgents_assistant-w-code-interpret already exists."
     ]
    }
   ],
   "source": [
    "assume_role_policy_document = assume_role_policy_document = {\n",
    "    \"Version\": \"2012-10-17\",\n",
    "    \"Statement\": [{\n",
    "          \"Effect\": \"Allow\",\n",
    "          \"Principal\": {\n",
    "            \"Service\": \"bedrock.amazonaws.com\"\n",
    "          },\n",
    "          \"Action\": \"sts:AssumeRole\"\n",
    "    }]\n",
    "}\n",
    "\n",
    "assume_role_policy_document_json = json.dumps(assume_role_policy_document)\n",
    "agent_role = iam_client.create_role(\n",
    "    RoleName=agent_role_name,\n",
    "    AssumeRolePolicyDocument=assume_role_policy_document_json\n",
    ")\n",
    "\n",
    "# Pause to make sure role is created\n",
    "time.sleep(10)\n",
    "    \n",
    "iam_client.attach_role_policy(\n",
    "    RoleName=agent_role_name,\n",
    "    PolicyArn=agent_bedrock_policy['Policy']['Arn']\n",
    ")"
   ]
  },
  {
   "cell_type": "markdown",
   "metadata": {},
   "source": [
    "#### Creating the Bedrock agent"
   ]
  },
  {
   "cell_type": "code",
   "execution_count": 19,
   "metadata": {},
   "outputs": [
    {
     "ename": "NameError",
     "evalue": "name 'agent_role' is not defined",
     "output_type": "error",
     "traceback": [
      "\u001b[31m---------------------------------------------------------------------------\u001b[39m",
      "\u001b[31mNameError\u001b[39m                                 Traceback (most recent call last)",
      "\u001b[36mCell\u001b[39m\u001b[36m \u001b[39m\u001b[32mIn[19]\u001b[39m\u001b[32m, line 3\u001b[39m\n\u001b[32m      1\u001b[39m response = bedrock_agent_client.create_agent(\n\u001b[32m      2\u001b[39m     agentName=agent_name,\n\u001b[32m----> \u001b[39m\u001b[32m3\u001b[39m     agentResourceRoleArn=\u001b[43magent_role\u001b[49m[\u001b[33m'\u001b[39m\u001b[33mRole\u001b[39m\u001b[33m'\u001b[39m][\u001b[33m'\u001b[39m\u001b[33mArn\u001b[39m\u001b[33m'\u001b[39m],\n\u001b[32m      4\u001b[39m     description=agent_description,\n\u001b[32m      5\u001b[39m     idleSessionTTLInSeconds=\u001b[32m1800\u001b[39m,\n\u001b[32m      6\u001b[39m     foundationModel=agent_foundational_model,\n\u001b[32m      7\u001b[39m     instruction=agent_instructions\n\u001b[32m      8\u001b[39m )\n\u001b[32m      9\u001b[39m response\n",
      "\u001b[31mNameError\u001b[39m: name 'agent_role' is not defined"
     ]
    }
   ],
   "source": [
    "response = bedrock_agent_client.create_agent(\n",
    "    agentName=agent_name,\n",
    "    agentResourceRoleArn=agent_role['Role']['Arn'],\n",
    "    description=agent_description,\n",
    "    idleSessionTTLInSeconds=1800,\n",
    "    foundationModel=agent_foundational_model,\n",
    "    instruction=agent_instructions\n",
    ")\n",
    "response"
   ]
  },
  {
   "cell_type": "code",
   "execution_count": 10,
   "metadata": {},
   "outputs": [
    {
     "data": {
      "text/plain": [
       "'JSTGVQJR5U'"
      ]
     },
     "execution_count": 10,
     "metadata": {},
     "output_type": "execute_result"
    }
   ],
   "source": [
    "agent_id = response['agent']['agentId']\n",
    "agent_id"
   ]
  },
  {
   "cell_type": "markdown",
   "metadata": {},
   "source": [
    "#### Create Agent Action Group"
   ]
  },
  {
   "cell_type": "code",
   "execution_count": 6,
   "metadata": {},
   "outputs": [
    {
     "ename": "NameError",
     "evalue": "name 'bedrock_agent_client' is not defined",
     "output_type": "error",
     "traceback": [
      "\u001b[31m---------------------------------------------------------------------------\u001b[39m",
      "\u001b[31mNameError\u001b[39m                                 Traceback (most recent call last)",
      "\u001b[36mCell\u001b[39m\u001b[36m \u001b[39m\u001b[32mIn[6]\u001b[39m\u001b[32m, line 6\u001b[39m\n\u001b[32m      1\u001b[39m \u001b[38;5;66;03m# Pause to make sure agent is created\u001b[39;00m\n\u001b[32m      2\u001b[39m \u001b[38;5;66;03m#time.sleep(30)\u001b[39;00m\n\u001b[32m      3\u001b[39m \u001b[38;5;66;03m# Now, we can configure and create an action group here:\u001b[39;00m\n\u001b[32m      4\u001b[39m \n\u001b[32m      5\u001b[39m \u001b[38;5;66;03m# Enable code interpretation for the agent\u001b[39;00m\n\u001b[32m----> \u001b[39m\u001b[32m6\u001b[39m agent_action_group_response = \u001b[43mbedrock_agent_client\u001b[49m.create_agent_action_group(\n\u001b[32m      7\u001b[39m     agentId=agent_id,       \n\u001b[32m      8\u001b[39m     agentVersion=\u001b[33m'\u001b[39m\u001b[33mDRAFT\u001b[39m\u001b[33m'\u001b[39m,\n\u001b[32m      9\u001b[39m     actionGroupName=\u001b[33m'\u001b[39m\u001b[33mcode-interpreter\u001b[39m\u001b[33m'\u001b[39m,\n\u001b[32m     10\u001b[39m     parentActionGroupSignature=\u001b[33m'\u001b[39m\u001b[33mAMAZON.CodeInterpreter\u001b[39m\u001b[33m'\u001b[39m,\n\u001b[32m     11\u001b[39m     actionGroupState=\u001b[33m'\u001b[39m\u001b[33mENABLED\u001b[39m\u001b[33m'\u001b[39m\n\u001b[32m     12\u001b[39m )\n",
      "\u001b[31mNameError\u001b[39m: name 'bedrock_agent_client' is not defined"
     ]
    }
   ],
   "source": [
    "# Pause to make sure agent is created\n",
    "#time.sleep(30)\n",
    "# Now, we can configure and create an action group here:\n",
    "\n",
    "# Enable code interpretation for the agent\n",
    "agent_action_group_response = bedrock_agent_client.create_agent_action_group(\n",
    "    agentId=agent_id,       \n",
    "    agentVersion='DRAFT',\n",
    "    actionGroupName='code-interpreter',\n",
    "    parentActionGroupSignature='AMAZON.CodeInterpreter',\n",
    "    actionGroupState='ENABLED'\n",
    ")"
   ]
  },
  {
   "cell_type": "code",
   "execution_count": 5,
   "metadata": {},
   "outputs": [
    {
     "ename": "NameError",
     "evalue": "name 'agent_action_group_response' is not defined",
     "output_type": "error",
     "traceback": [
      "\u001b[31m---------------------------------------------------------------------------\u001b[39m",
      "\u001b[31mNameError\u001b[39m                                 Traceback (most recent call last)",
      "\u001b[36mCell\u001b[39m\u001b[36m \u001b[39m\u001b[32mIn[5]\u001b[39m\u001b[32m, line 1\u001b[39m\n\u001b[32m----> \u001b[39m\u001b[32m1\u001b[39m \u001b[43magent_action_group_response\u001b[49m\n",
      "\u001b[31mNameError\u001b[39m: name 'agent_action_group_response' is not defined"
     ]
    }
   ],
   "source": [
    "agent_action_group_response"
   ]
  },
  {
   "cell_type": "markdown",
   "metadata": {},
   "source": [
    "#### Preparing Agent"
   ]
  },
  {
   "cell_type": "code",
   "execution_count": 13,
   "metadata": {},
   "outputs": [
    {
     "name": "stdout",
     "output_type": "stream",
     "text": [
      "{'ResponseMetadata': {'RequestId': 'c9508b84-8833-45d8-8189-f4000b4a6348', 'HTTPStatusCode': 202, 'HTTPHeaders': {'date': 'Fri, 30 May 2025 08:36:53 GMT', 'content-type': 'application/json', 'content-length': '119', 'connection': 'keep-alive', 'x-amzn-requestid': 'c9508b84-8833-45d8-8189-f4000b4a6348', 'x-amz-apigw-id': 'LX4l5HsWIAMEUvQ=', 'x-amzn-trace-id': 'Root=1-68396e25-568a5cfd5bd77a6610e30fba'}, 'RetryAttempts': 0}, 'agentId': 'JSTGVQJR5U', 'agentStatus': 'PREPARING', 'agentVersion': 'DRAFT', 'preparedAt': datetime.datetime(2025, 5, 30, 8, 36, 53, 564802, tzinfo=tzutc())}\n"
     ]
    }
   ],
   "source": [
    "response = bedrock_agent_client.prepare_agent(\n",
    "    agentId=agent_id\n",
    ")\n",
    "print(response)"
   ]
  },
  {
   "cell_type": "code",
   "execution_count": 18,
   "metadata": {},
   "outputs": [],
   "source": [
    "# Pause to make sure agent is prepared\n",
    "#time.sleep(30)\n",
    "\n",
    "# Extract the agentAliasId from the response\n",
    "agent_alias_id = \"TSTALIASID\""
   ]
  },
  {
   "cell_type": "markdown",
   "metadata": {},
   "source": [
    "#### Invoking the agent"
   ]
  },
  {
   "cell_type": "markdown",
   "metadata": {},
   "source": [
    "\t1.\tListens to a live stream of events from an LLM.\n",
    "\t2.\tDecodes actions or responses as they arrive.\n",
    "\t3.\tOptionally invokes tools (like a code interpreter).\n",
    "\t4.\tHandles trace events for observability.\n",
    "\t5.\tReturns the agent’s final reply once received."
   ]
  },
  {
   "cell_type": "code",
   "execution_count": 14,
   "metadata": {},
   "outputs": [],
   "source": [
    "def process_response(resp, enable_trace: bool = False, show_code_use: bool = False):\n",
    "    if enable_trace:\n",
    "        logger.info(pprint.pformat(resp))\n",
    "\n",
    "    event_stream = resp['completion']\n",
    "\n",
    "    try:\n",
    "        for event in event_stream:\n",
    "            if 'chunk' in event:\n",
    "                data = event['chunk']['bytes']\n",
    "                if enable_trace:\n",
    "                    logger.info(f\"Final Answer ->\\n{data.decode('utf8')}\")\n",
    "                agent_answer = data.decode('utf8')\n",
    "                return agent_answer\n",
    "\n",
    "            elif 'trace' in event:\n",
    "                trace_data = event['trace']\n",
    "\n",
    "                # Check presence of code interpreter without serializing\n",
    "                if (\n",
    "                    isinstance(trace_data, dict)\n",
    "                    and 'codeInterpreterInvocationInput' in trace_data\n",
    "                ):\n",
    "                    if show_code_use:\n",
    "                        print(\"Invoked Code Interpreter\")\n",
    "                    if enable_trace:\n",
    "                        # Use safe serialization for logging\n",
    "                        logger.info(json.dumps(trace_data, default=str, indent=2))\n",
    "\n",
    "            else:\n",
    "                raise Exception(\"unexpected event.\", event)\n",
    "\n",
    "    except Exception as e:\n",
    "        raise Exception(\"unexpected event.\", e)"
   ]
  },
  {
   "cell_type": "markdown",
   "metadata": {},
   "source": [
    "\t•\tPreparing a request to an agent (LLM with tools/memory).\n",
    "\t•\tSending a user query along with session context.\n",
    "\t•\tControlling features like tracing, memory, and session lifecycle.\n",
    "\t•\tDelegating the streamed response to a handler (process_response), which we analyzed earlier."
   ]
  },
  {
   "cell_type": "code",
   "execution_count": 15,
   "metadata": {},
   "outputs": [],
   "source": [
    "def invoke_agent_helper(\n",
    "       query, session_id, agent_id, alias_id, enable_trace=False, memory_id=None, session_state=None, end_session=False, show_code_use=False \n",
    "):\n",
    "    if not session_state:\n",
    "        session_state = {}\n",
    "    \n",
    "    # invoke the agent API\n",
    "    agent_response = bedrock_agent_runtime_client.invoke_agent(\n",
    "        inputText=query,\n",
    "        agentId=agent_id,\n",
    "        agentAliasId=alias_id,\n",
    "        sessionId=session_id,\n",
    "        enableTrace=(enable_trace | show_code_use),\n",
    "        sessionState=session_state,\n",
    "        endSession=end_session,\n",
    "        memoryId=memory_id\n",
    "    )\n",
    "\n",
    "    return process_response(agent_response, enable_trace=enable_trace, show_code_use=show_code_use)\n"
   ]
  },
  {
   "cell_type": "code",
   "execution_count": 16,
   "metadata": {},
   "outputs": [
    {
     "name": "stdout",
     "output_type": "stream",
     "text": [
      "{'ResponseMetadata': {'RequestId': '047bc3f8-9906-4a0a-a614-a302e1f84aff', 'HTTPStatusCode': 200, 'HTTPHeaders': {'date': 'Fri, 30 May 2025 08:43:07 GMT', 'content-type': 'application/json', 'content-length': '296', 'connection': 'keep-alive', 'x-amzn-requestid': '047bc3f8-9906-4a0a-a614-a302e1f84aff', 'x-amz-apigw-id': 'LX5gTFGnIAMEGlw=', 'x-amzn-trace-id': 'Root=1-68396f9b-33cd19c31ee800b3664d2d41'}, 'RetryAttempts': 0}, 'agentAliasSummaries': [{'agentAliasId': 'TSTALIASID', 'agentAliasName': 'AgentTestAlias', 'agentAliasStatus': 'PREPARED', 'createdAt': datetime.datetime(2025, 5, 30, 8, 33, 29, 373101, tzinfo=tzutc()), 'description': 'Test Alias for Agent', 'routingConfiguration': [{'agentVersion': 'DRAFT'}], 'updatedAt': datetime.datetime(2025, 5, 30, 8, 33, 29, 373101, tzinfo=tzutc())}]}\n"
     ]
    }
   ],
   "source": [
    "agent_aliases = bedrock_agent_client.list_agent_aliases(agentId=agent_id)\n",
    "print(agent_aliases)"
   ]
  },
  {
   "cell_type": "markdown",
   "metadata": {},
   "source": [
    "#### Invoking Code Interpreter"
   ]
  },
  {
   "cell_type": "code",
   "execution_count": 19,
   "metadata": {},
   "outputs": [
    {
     "data": {
      "text/plain": [
       "'Here is your 10 character long string of random characters: 8Numbia4mO'"
      ]
     },
     "execution_count": 19,
     "metadata": {},
     "output_type": "execute_result"
    }
   ],
   "source": [
    "## create a random id for session initiator id\n",
    "session_id:str = str(uuid.uuid1())\n",
    "memory_id:str = 'TST_MEM_ID'\n",
    "query = \"Please generate a 10 character long string of random characters\"\n",
    "invoke_agent_helper(query, session_id, agent_id, agent_alias_id, enable_trace=False, memory_id=memory_id, show_code_use=True)"
   ]
  },
  {
   "cell_type": "code",
   "execution_count": 20,
   "metadata": {},
   "outputs": [
    {
     "data": {
      "text/plain": [
       "'The result of 75 * sin(0.75) is approximately 51.12290700175006.'"
      ]
     },
     "execution_count": 20,
     "metadata": {},
     "output_type": "execute_result"
    }
   ],
   "source": [
    "query = \"What is 75 * sin(.75)?\"\n",
    "invoke_agent_helper(query, session_id, agent_id, agent_alias_id, enable_trace=False, memory_id=memory_id, \n",
    "                    show_code_use=True)"
   ]
  },
  {
   "cell_type": "code",
   "execution_count": 21,
   "metadata": {},
   "outputs": [
    {
     "data": {
      "text/plain": [
       "\"You're welcome! If you have any more questions or need further assistance, feel free to ask.\""
      ]
     },
     "execution_count": 21,
     "metadata": {},
     "output_type": "execute_result"
    }
   ],
   "source": [
    "query = \"thank you!\"\n",
    "invoke_agent_helper(query, session_id, agent_id, agent_alias_id, enable_trace=False, memory_id=memory_id, show_code_use=True)"
   ]
  },
  {
   "cell_type": "markdown",
   "metadata": {},
   "source": [
    "#### Sending files to the agent"
   ]
  },
  {
   "cell_type": "code",
   "execution_count": 25,
   "metadata": {},
   "outputs": [],
   "source": [
    "def add_file_to_session_state(file_name, use_case='CODE_INTERPRETER', session_state=None):\n",
    "    if use_case != \"CHAT\" and use_case != \"CODE_INTERPRETER\":\n",
    "        raise ValueError(\"Use case must be either 'CHAT' or 'CODE_INTERPRETER'\")\n",
    "    if not session_state:\n",
    "        session_state = {\n",
    "            \"files\": []\n",
    "        }\n",
    "    type = file_name.split(\".\")[-1].upper()\n",
    "    name = file_name.split(\"/\")[-1]\n",
    "\n",
    "    if type == \"CSV\":\n",
    "        media_type = \"text/csv\" \n",
    "    elif type in [\"XLS\", \"XLSX\"]:\n",
    "        media_type = \"application/vnd.openxmlformats-officedocument.spreadsheetml.sheet\"\n",
    "    else:\n",
    "        media_type = \"text/plain\"\n",
    "\n",
    "    named_file = {\n",
    "        \"name\": name,\n",
    "        \"source\": {\n",
    "            \"sourceType\": \"BYTE_CONTENT\", \n",
    "            \"byteContent\": {\n",
    "                \"mediaType\": media_type,\n",
    "                \"data\": open(file_name, \"rb\").read()\n",
    "            }\n",
    "        },\n",
    "        \"useCase\": use_case\n",
    "    }\n",
    "    session_state['files'].append(named_file)\n",
    "\n",
    "    return session_state"
   ]
  },
  {
   "cell_type": "markdown",
   "metadata": {},
   "source": [
    "#### Passing files for normal chat"
   ]
  },
  {
   "cell_type": "code",
   "execution_count": 26,
   "metadata": {},
   "outputs": [
    {
     "data": {
      "text/plain": [
       "b'Symbol,Date,Open,Close,High,Low,Adj Close,Volume\\nFAKECO,2023-06-27,100.11,100.75,101.75,99.68,100.75'"
      ]
     },
     "execution_count": 26,
     "metadata": {},
     "output_type": "execute_result"
    }
   ],
   "source": [
    "import base64 \n",
    "\n",
    "# base64 encode the csv file \n",
    "with open(stock_file, \"rb\") as file_name:\n",
    "    data = file_name.read()\n",
    "    encoded_file = data #base64.b64encode(data)\n",
    "\n",
    "    # Show the first 100 characters of the encoded file\n",
    "encoded_file[0:100]"
   ]
  },
  {
   "cell_type": "code",
   "execution_count": 27,
   "metadata": {},
   "outputs": [
    {
     "data": {
      "text/plain": [
       "'The document contains financial data for a company named FAKECO. The data includes daily records of the stock symbol, date, opening price, closing price, highest price, lowest price, adjusted closing price, and trading volume for a period spanning from June 27, 2023, to June 27, 2024.\\n'"
      ]
     },
     "execution_count": 27,
     "metadata": {},
     "output_type": "execute_result"
    }
   ],
   "source": [
    "# Invoke the agent and process the response stream\n",
    "query = \"What is the data in this file?\"\n",
    "\n",
    "sessionState=add_file_to_session_state(stock_file, 'CHAT')\n",
    "\n",
    "invoke_agent_helper(query, session_id, agent_id, agent_alias_id, enable_trace=False, session_state=sessionState, \n",
    "                    memory_id=memory_id, show_code_use=True)"
   ]
  },
  {
   "cell_type": "markdown",
   "metadata": {},
   "source": [
    "#### Passing files for use with code interpretation"
   ]
  },
  {
   "cell_type": "code",
   "execution_count": null,
   "metadata": {},
   "outputs": [],
   "source": [
    "# Invoke the agent and process the response stream\n",
    "query = \"Given the attached price data file, what pct growth happened across the full time series for closing price? what was the price on the first and last days?\"\n",
    "\n",
    "sessionState=add_file_to_session_state(stock_file, 'CODE_INTERPRETER')\n",
    "\n",
    "invoke_agent_helper(query, session_id, agent_id, agent_alias_id, enable_trace=False, session_state=sessionState, \n",
    "                    memory_id=memory_id, show_code_use=True)"
   ]
  },
  {
   "cell_type": "markdown",
   "metadata": {},
   "source": [
    "### The Bedrock Agents response stream\n",
    "\n",
    "The response stream consists of events, formatted in JSON. It conveys rich data about the details of the agent's thought and actions as it works through the ReAct pattern (reasoning and action). Here are some important keys:\n",
    "\n",
    "- 'files' contain files generated by the agent's LLM model intrinsically\n",
    "- 'trace' events contain information about the agent's thought process and work steps. There are several kinds of trace events:\n",
    "- 'modelInvocationInput' keys contain\n",
    "- 'rationale' keys contain the agent's reasoning\n",
    "- 'invocationInput' keys contain details of parameters to action group calls.\n",
    "- 'codeInterpreterInvocationInput' keys within that contain code that the model generated and is passing to code interpretation.\n",
    "- 'observation' keys contain important observations, including:\n",
    "- 'codeInterpreterInvocationOutput' within that contains specific output from the code interpretation:\n",
    "- 'executionOutput' contains the results of the code execution\n",
    "- 'executionError' is populated with an error if an error is encountered while executing the code\n",
    "- 'files' contain files generated by the code interpretation\n",
    "- 'finalResponse' contains the agent's final response"
   ]
  },
  {
   "cell_type": "markdown",
   "metadata": {},
   "source": [
    "### Redefine the helper function\n"
   ]
  },
  {
   "cell_type": "code",
   "execution_count": null,
   "metadata": {},
   "outputs": [],
   "source": [
    "!python3 -m pip install matplotlib"
   ]
  },
  {
   "cell_type": "code",
   "execution_count": 31,
   "metadata": {},
   "outputs": [],
   "source": [
    "from IPython.display import display, Markdown\n",
    "import matplotlib.pyplot as plt\n",
    "import matplotlib.image as mpimg\n"
   ]
  },
  {
   "cell_type": "code",
   "execution_count": 28,
   "metadata": {},
   "outputs": [],
   "source": [
    "def process_response(resp, enable_trace:bool=True, show_code_use:bool=False):\n",
    "    if resp['ResponseMetadata']['HTTPStatusCode'] != 200:\n",
    "        print(f\"API Response was not 200: {resp}\")\n",
    "\n",
    "    event_stream = resp['completion']\n",
    "    for event in event_stream:\n",
    "        if 'files' in event.keys():\n",
    "            files_event = event['files']\n",
    "            display(Markdown(\"### Files\"))\n",
    "            files_list = files_event['files']\n",
    "            for this_file in files_list:\n",
    "                print(f\"{this_file['name']} ({this_file['type']})\")\n",
    "                file_bytes = this_file['bytes']\n",
    "\n",
    "                # save bytes to file, given the name of file and the bytes \n",
    "                file_name = os.path.join('output', this_file['name'])\n",
    "                with open(file_name, 'wb') as f:\n",
    "                    f.write(file_bytes)\n",
    "                if this_file['type'] == 'image/png' or this_file['type'] == 'image/jpeg':\n",
    "                    img = mpimg.imread(file_name)\n",
    "                    plt.imshow(img)\n",
    "                    plt.show()\n",
    "\n",
    "        if 'trace' in event.keys() and enable_trace:\n",
    "            trace_event = event.get('trace')['trace']['orchestrationTrace']\n",
    "\n",
    "            if 'modelInvocationInput' in trace_event.keys():\n",
    "                pass\n",
    "\n",
    "            if 'rationale' in trace_event.keys():\n",
    "                rationale = trace_event['rationale']['text']\n",
    "                display(Markdown(f\"### Rationale\\n{rationale}\"))\n",
    "\n",
    "            if 'invocationInput' in trace_event.keys() and show_code_use:\n",
    "                inv_input = trace_event['invocationInput']\n",
    "                if 'codeInterpreterInvocationInput' in inv_input:\n",
    "                    gen_code = inv_input['codeInterpreterInvocationInput']['code']\n",
    "                    code = f\"```python\\n{gen_code}\\n```\"\n",
    "                    display(Markdown(f\"### Generated code\\n{code}\"))\n",
    "\n",
    "            if 'observation' in trace_event.keys():\n",
    "                obs = trace_event['observation']\n",
    "                if 'codeInterpreterInvocationOutput' in obs:\n",
    "                    if 'executionOutput' in obs['codeInterpreterInvocationOutput'].keys() and show_code_use:\n",
    "                        raw_output = obs['codeInterpreterInvocationOutput']['executionOutput']\n",
    "                        output = f\"```\\n{raw_output}\\n```\"\n",
    "                        display(Markdown(f\"### Output from code execution\\n{output}\"))\n",
    "\n",
    "                    if 'executionError' in obs['codeInterpreterInvocationOutput'].keys():\n",
    "                        display(Markdown(f\"### Error from code execution\\n{obs['codeInterpreterInvocationOutput']['executionError']}\"))\n",
    "\n",
    "                    if 'files' in obs['codeInterpreterInvocationOutput'].keys():\n",
    "                        display(Markdown(\"### Files generated\\n\"))\n",
    "                        display(Markdown(f\"{obs['codeInterpreterInvocationOutput']['files']}\"))\n",
    "\n",
    "                if 'finalResponse' in obs:                    \n",
    "                    final_resp = obs['finalResponse']['text']\n",
    "                    display(Markdown(f\"### Final response\\n{final_resp}\"))\n",
    "                    return final_resp"
   ]
  },
  {
   "cell_type": "markdown",
   "metadata": {},
   "source": [
    "### Generate a file using code generation"
   ]
  },
  {
   "cell_type": "code",
   "execution_count": 32,
   "metadata": {},
   "outputs": [
    {
     "data": {
      "text/markdown": [
       "### Files"
      ],
      "text/plain": [
       "<IPython.core.display.Markdown object>"
      ]
     },
     "metadata": {},
     "output_type": "display_data"
    },
    {
     "name": "stdout",
     "output_type": "stream",
     "text": [
      "greatest_books.csv (text/csv)\n"
     ]
    },
    {
     "data": {
      "text/markdown": [
       "### Files"
      ],
      "text/plain": [
       "<IPython.core.display.Markdown object>"
      ]
     },
     "metadata": {},
     "output_type": "display_data"
    },
    {
     "name": "stdout",
     "output_type": "stream",
     "text": [
      "greatest_books.csv (text/csv)\n"
     ]
    }
   ],
   "source": [
    "query = \"\"\"\n",
    "Please generate a list of the 10 greatest books of all time. Return it as a CSV file. Always return the file, even if you have provided it before.\n",
    "\"\"\"\n",
    "\n",
    "invoke_agent_helper(query, session_id, agent_id, agent_alias_id, enable_trace=False, session_state=sessionState,\n",
    "                    memory_id=memory_id, show_code_use=True)"
   ]
  },
  {
   "cell_type": "markdown",
   "metadata": {},
   "source": [
    "#### Generate a chart using code interpretation"
   ]
  },
  {
   "cell_type": "code",
   "execution_count": 33,
   "metadata": {},
   "outputs": [
    {
     "data": {
      "text/markdown": [
       "### Rationale\n",
       "The user's goal is to create a chart with a moving average in red and actual data in blue using the provided price data file.\n",
       "(2) The data file is a CSV file containing financial data for a company named FAKECO.\n",
       "(3) The best action plan is to read the CSV file, calculate the moving average, and then create a chart with the specified colors.\n",
       "(4) The action plan is not complete as I need to execute the code to generate the chart.\n",
       "(5) The available action is `get__codeinterpreteraction__execute`.\n",
       "(6) This action requires a Python code snippet to read the CSV file, calculate the moving average, and create the chart.\n",
       "(7) I have everything I need to generate the code snippet."
      ],
      "text/plain": [
       "<IPython.core.display.Markdown object>"
      ]
     },
     "metadata": {},
     "output_type": "display_data"
    },
    {
     "data": {
      "text/markdown": [
       "### Generated code\n",
       "```python\n",
       "import pandas as pd\n",
       "import matplotlib.pyplot as plt\n",
       "\n",
       "# Read the CSV file\n",
       "df = pd.read_csv('$BASE_PATH$/FAKECO.csv')\n",
       "\n",
       "# Convert the 'Date' column to datetime\n",
       "df['Date'] = pd.to_datetime(df['Date'])\n",
       "\n",
       "# Sort the dataframe by date\n",
       "df = df.sort_values(by='Date')\n",
       "\n",
       "# Calculate the moving average\n",
       "df['Moving Average'] = df['Close'].rolling(window=10).mean()\n",
       "\n",
       "# Create the chart\n",
       "plt.figure(figsize=(10, 5))\n",
       "plt.plot(df['Date'], df['Close'], label='Actual Data', color='blue')\n",
       "plt.plot(df['Date'], df['Moving Average'], label='Moving Average', color='red')\n",
       "plt.xlabel('Date')\n",
       "plt.ylabel('Price')\n",
       "plt.title('Price Data with Moving Average')\n",
       "plt.legend()\n",
       "plt.savefig('$BASE_PATH$/price_chart.png')\n",
       "```"
      ],
      "text/plain": [
       "<IPython.core.display.Markdown object>"
      ]
     },
     "metadata": {},
     "output_type": "display_data"
    },
    {
     "data": {
      "text/markdown": [
       "### Output from code execution\n",
       "```\n",
       "\n",
       "```"
      ],
      "text/plain": [
       "<IPython.core.display.Markdown object>"
      ]
     },
     "metadata": {},
     "output_type": "display_data"
    },
    {
     "data": {
      "text/markdown": [
       "### Files generated\n"
      ],
      "text/plain": [
       "<IPython.core.display.Markdown object>"
      ]
     },
     "metadata": {},
     "output_type": "display_data"
    },
    {
     "data": {
      "text/markdown": [
       "['price_chart.png']"
      ],
      "text/plain": [
       "<IPython.core.display.Markdown object>"
      ]
     },
     "metadata": {},
     "output_type": "display_data"
    },
    {
     "data": {
      "text/markdown": [
       "### Files"
      ],
      "text/plain": [
       "<IPython.core.display.Markdown object>"
      ]
     },
     "metadata": {},
     "output_type": "display_data"
    },
    {
     "name": "stdout",
     "output_type": "stream",
     "text": [
      "price_chart.png (image/png)\n"
     ]
    },
    {
     "data": {
      "image/png": "[encoded data removed]",
      "text/plain": [
       "<Figure size 640x480 with 1 Axes>"
      ]
     },
     "metadata": {},
     "output_type": "display_data"
    },
    {
     "data": {
      "text/markdown": [
       "### Rationale\n",
       "The user's goal was to create a chart with a moving average in red and actual data in blue using the provided price data file.\n",
       "(2) The code interpreter has generated the chart: price_chart.png.\n",
       "(3) The action plan is complete.\n",
       "(4) No further action is needed.\n",
       "(5) I will provide the final response to the user."
      ],
      "text/plain": [
       "<IPython.core.display.Markdown object>"
      ]
     },
     "metadata": {},
     "output_type": "display_data"
    },
    {
     "data": {
      "text/markdown": [
       "### Final response\n",
       "Here is the chart with the moving average in red and actual data in blue: price_chart.png\n"
      ],
      "text/plain": [
       "<IPython.core.display.Markdown object>"
      ]
     },
     "metadata": {},
     "output_type": "display_data"
    },
    {
     "data": {
      "text/plain": [
       "'Here is the chart with the moving average in red and actual data in blue: price_chart.png\\n'"
      ]
     },
     "execution_count": 33,
     "metadata": {},
     "output_type": "execute_result"
    }
   ],
   "source": [
    "# Invoke the agent and process the response stream\n",
    "query = \"Given the attached price data file, please make me a chart with moving average in red and actual data in blue\"\n",
    "\n",
    "sessionState=add_file_to_session_state(stock_file, 'CODE_INTERPRETER')\n",
    "\n",
    "invoke_agent_helper(query, session_id, agent_id, agent_alias_id, enable_trace=True, session_state=sessionState,\n",
    "                    memory_id=memory_id, show_code_use=True)"
   ]
  },
  {
   "cell_type": "markdown",
   "metadata": {},
   "source": [
    "#### Generate synthetic data and analyze it"
   ]
  },
  {
   "cell_type": "code",
   "execution_count": 34,
   "metadata": {},
   "outputs": [
    {
     "data": {
      "text/markdown": [
       "### Rationale\n",
       "The user's goal is to generate two CSV files with specific data and then create a boxplot comparing sales between East Coast and West Coast companies.\n",
       "(2) No additional information is provided.\n",
       "(3) The best action plan is to generate the CSV files with the specified data, merge the data, and create the boxplot.\n",
       "(4) The action plan is not complete as I need to execute the code to generate the files and the chart.\n",
       "(5) The available action is `get__codeinterpreteraction__execute`.\n",
       "(6) This action requires a Python code snippet to generate the CSV files, merge the data, and create the boxplot.\n",
       "(7) I have everything I need to generate the code snippet."
      ],
      "text/plain": [
       "<IPython.core.display.Markdown object>"
      ]
     },
     "metadata": {},
     "output_type": "display_data"
    },
    {
     "data": {
      "text/markdown": [
       "### Generated code\n",
       "```python\n",
       "import pandas as pd\n",
       "import numpy as np\n",
       "import matplotlib.pyplot as plt\n",
       "\n",
       "# Define the company names and states\n",
       "company_names = ['Tech Innovators', 'Green Energy', 'Urban Developers', 'Health Solutions', 'Creative Minds', 'Smart Logistics', 'Digital Artists', 'Eco Friendly', 'Innovative Minds', 'Future Tech']\n",
       "east_coast_states = ['NY', 'NJ', 'MA', 'CT', 'PA']\n",
       "west_coast_states = ['CA', 'WA', 'OR', 'NV', 'AK']\n",
       "\n",
       "# Generate data for 200 companies\n",
       "company_ids = [f'C{i:05d}' for i in range(1, 201)]\n",
       "company_names_repeated = np.random.choice(company_names, 200)\n",
       "sales_2024_east = np.random.randint(0, 700000, 100)\n",
       "sales_2024_west = np.random.randint(500000, 2000000, 100)\n",
       "sales_2024 = np.concatenate([sales_2024_east, sales_2024_west])\n",
       "company_states = np.random.choice(east_coast_states, 100).tolist() + np.random.choice(west_coast_states, 100).tolist()\n",
       "\n",
       "# Create the SALES dataframe\n",
       "sales_df = pd.DataFrame({'COMPANY_ID': company_ids, 'COMPANY_NAME': company_names_repeated, 'SALES_2024': sales_2024})\n",
       "\n",
       "# Create the DETAILS dataframe\n",
       "details_df = pd.DataFrame({'COMPANY_ID': company_ids, 'COMPANY_STATE_CODE': company_states})\n",
       "\n",
       "# Save the dataframes to CSV files\n",
       "sales_df.to_csv('./SALES.csv', index=False)\n",
       "details_df.to_csv('./DETAILS.csv', index=False)\n",
       "\n",
       "# Merge the dataframes\n",
       "merged_df = pd.merge(sales_df, details_df, on='COMPANY_ID')\n",
       "\n",
       "# Create the boxplot\n",
       "plt.figure(figsize=(10, 6))\n",
       "plt.boxplot([merged_df[merged_df['COMPANY_STATE_CODE'].isin(east_coast_states)]['SALES_2024'], merged_df[merged_df['COMPANY_STATE_CODE'].isin(west_coast_states)]['SALES_2024']], labels=['East Coast', 'West Coast'])\n",
       "plt.title('Sales Comparison Between East Coast and West Coast Companies')\n",
       "plt.ylabel('Sales 2024')\n",
       "plt.savefig('./sales_comparison.png')\n",
       "```"
      ],
      "text/plain": [
       "<IPython.core.display.Markdown object>"
      ]
     },
     "metadata": {},
     "output_type": "display_data"
    },
    {
     "data": {
      "text/markdown": [
       "### Output from code execution\n",
       "```\n",
       "\n",
       "```"
      ],
      "text/plain": [
       "<IPython.core.display.Markdown object>"
      ]
     },
     "metadata": {},
     "output_type": "display_data"
    },
    {
     "data": {
      "text/markdown": [
       "### Files generated\n"
      ],
      "text/plain": [
       "<IPython.core.display.Markdown object>"
      ]
     },
     "metadata": {},
     "output_type": "display_data"
    },
    {
     "data": {
      "text/markdown": [
       "['SALES.csv', 'sales_comparison.png', 'DETAILS.csv']"
      ],
      "text/plain": [
       "<IPython.core.display.Markdown object>"
      ]
     },
     "metadata": {},
     "output_type": "display_data"
    },
    {
     "data": {
      "text/markdown": [
       "### Files"
      ],
      "text/plain": [
       "<IPython.core.display.Markdown object>"
      ]
     },
     "metadata": {},
     "output_type": "display_data"
    },
    {
     "name": "stdout",
     "output_type": "stream",
     "text": [
      "SALES.csv (text/csv)\n",
      "sales_comparison.png (image/png)\n"
     ]
    },
    {
     "data": {
      "image/png": "[encoded data removed]",
      "text/plain": [
       "<Figure size 640x480 with 1 Axes>"
      ]
     },
     "metadata": {},
     "output_type": "display_data"
    },
    {
     "name": "stdout",
     "output_type": "stream",
     "text": [
      "DETAILS.csv (text/csv)\n"
     ]
    },
    {
     "data": {
      "text/markdown": [
       "### Rationale\n",
       "The user's goal was to generate two CSV files with specific data and then create a boxplot comparing sales between East Coast and West Coast companies.\n",
       "(2) The code interpreter has generated the CSV files: SALES.csv and DETAILS.csv, and the boxplot: sales_comparison.png.\n",
       "(3) The action plan is complete.\n",
       "(4) No further action is needed.\n",
       "(5) I will provide the final response to the user."
      ],
      "text/plain": [
       "<IPython.core.display.Markdown object>"
      ]
     },
     "metadata": {},
     "output_type": "display_data"
    },
    {
     "data": {
      "text/markdown": [
       "### Final response\n",
       "Here are the generated files:\n",
       "- SALES.csv\n",
       "- DETAILS.csv\n",
       "- sales_comparison.png\n",
       "\n",
       "The boxplot compares sales between East Coast and West Coast companies."
      ],
      "text/plain": [
       "<IPython.core.display.Markdown object>"
      ]
     },
     "metadata": {},
     "output_type": "display_data"
    },
    {
     "data": {
      "text/plain": [
       "'Here are the generated files:\\n- SALES.csv\\n- DETAILS.csv\\n- sales_comparison.png\\n\\nThe boxplot compares sales between East Coast and West Coast companies.'"
      ]
     },
     "execution_count": 34,
     "metadata": {},
     "output_type": "execute_result"
    }
   ],
   "source": [
    "# Invoke the agent and process the response stream\n",
    "query = \"\"\"\n",
    "Generate two CSV files for me: \n",
    "1. One called SALES, with 3 columns: COMPANY_ID, COMPANY_NAME, and SALES_2024.  \n",
    "2. Another called DETAILS, with 2 columns: COMPANY_ID and COMPANY_STATE_CODE.\n",
    "\n",
    "Follow these rules:\n",
    "- Each file should contain data for 200 companies, and both must share the same COMPANY_IDs.\n",
    "- COMPANY_IDs should be of the form: C00001, C00002, ..., C00200.\n",
    "- Use realistic, human-readable English words for company names (not random characters).\n",
    "- Company names should be generated without using nested quotes in f-strings — assign choices to variables before using them in f-strings.\n",
    "- States should be chosen only from U.S. East Coast or West Coast states (e.g., NY, NJ, MA, CA, WA).\n",
    "- Assign 100 companies to East Coast states and 100 to West Coast states.\n",
    "- SALES_2024 should range between 0–700,000 for East Coast companies, and 500,000–2,000,000 for West Coast companies.\n",
    "\n",
    "Once the CSV files are generated, merge the data and produce a boxplot comparing SALES_2024 between East Coast and West Coast companies. Save the chart as a PNG.\n",
    "\n",
    "Important:\n",
    "- Avoid syntax errors. Do not use nested quote expressions directly inside f-strings.\n",
    "- Make sure the files are saved locally as './SALES.csv', './DETAILS.csv', and './sales_comparison.png'.\n",
    "- After generating, validate that all rules were followed.\n",
    "\n",
    "When done, test to be sure you have followed each of the above rules, \n",
    "and produce a chart comparing sales per company in the two regions using box plots.\n",
    "\"\"\"\n",
    "\n",
    "invoke_agent_helper(query, session_id, agent_id, agent_alias_id, enable_trace=True, session_state=sessionState,\n",
    "                    memory_id=memory_id, show_code_use=True)"
   ]
  },
  {
   "cell_type": "markdown",
   "metadata": {},
   "source": [
    "### Clean up"
   ]
  },
  {
   "cell_type": "code",
   "execution_count": 9,
   "metadata": {},
   "outputs": [
    {
     "ename": "NameError",
     "evalue": "name 'agent_action_group_response' is not defined",
     "output_type": "error",
     "traceback": [
      "\u001b[31m---------------------------------------------------------------------------\u001b[39m",
      "\u001b[31mNameError\u001b[39m                                 Traceback (most recent call last)",
      "\u001b[36mCell\u001b[39m\u001b[36m \u001b[39m\u001b[32mIn[9]\u001b[39m\u001b[32m, line 1\u001b[39m\n\u001b[32m----> \u001b[39m\u001b[32m1\u001b[39m action_group_id = \u001b[43magent_action_group_response\u001b[49m[\u001b[33m'\u001b[39m\u001b[33magentActionGroup\u001b[39m\u001b[33m'\u001b[39m][\u001b[33m'\u001b[39m\u001b[33mactionGroupId\u001b[39m\u001b[33m'\u001b[39m]\n\u001b[32m      2\u001b[39m action_group_name = agent_action_group_response[\u001b[33m'\u001b[39m\u001b[33magentActionGroup\u001b[39m\u001b[33m'\u001b[39m][\u001b[33m'\u001b[39m\u001b[33mactionGroupName\u001b[39m\u001b[33m'\u001b[39m]\n\u001b[32m      4\u001b[39m response = bedrock_agent_client.update_agent_action_group(\n\u001b[32m      5\u001b[39m     agentId=agent_id,\n\u001b[32m      6\u001b[39m     agentVersion=\u001b[33m'\u001b[39m\u001b[33mDRAFT\u001b[39m\u001b[33m'\u001b[39m,\n\u001b[32m   (...)\u001b[39m\u001b[32m     10\u001b[39m     parentActionGroupSignature=\u001b[33m'\u001b[39m\u001b[33mAMAZON.CodeInterpreter\u001b[39m\u001b[33m'\u001b[39m\n\u001b[32m     11\u001b[39m )\n",
      "\u001b[31mNameError\u001b[39m: name 'agent_action_group_response' is not defined"
     ]
    }
   ],
   "source": [
    "action_group_id = agent_action_group_response['agentActionGroup']['actionGroupId']\n",
    "action_group_name = agent_action_group_response['agentActionGroup']['actionGroupName']\n",
    "\n",
    "response = bedrock_agent_client.update_agent_action_group(\n",
    "    agentId=agent_id,\n",
    "    agentVersion='DRAFT',\n",
    "    actionGroupId= action_group_id,\n",
    "    actionGroupName=action_group_name,\n",
    "    actionGroupState='DISABLED',\n",
    "    parentActionGroupSignature='AMAZON.CodeInterpreter'\n",
    ")"
   ]
  },
  {
   "cell_type": "code",
   "execution_count": 84,
   "metadata": {},
   "outputs": [],
   "source": [
    "action_group_deletion = bedrock_agent_client.delete_agent_action_group(\n",
    "    agentId=agent_id,\n",
    "    agentVersion='DRAFT',\n",
    "    actionGroupId= action_group_id\n",
    ")\n",
    "agent_deletion = bedrock_agent_client.delete_agent(\n",
    "    agentId=agent_id\n",
    ")"
   ]
  },
  {
   "cell_type": "code",
   "execution_count": null,
   "metadata": {},
   "outputs": [],
   "source": [
    "\n",
    "# Delete IAM Roles and policies\n",
    "\n",
    "for policy in [agent_bedrock_allow_policy_name]:\n",
    "    iam_client.detach_role_policy(RoleName=agent_role_name, PolicyArn=f'arn:aws:iam::{account_id}:policy/{policy}')\n",
    "\n",
    "for policy in [agent_bedrock_policy]:\n",
    "    iam_client.delete_policy(\n",
    "        PolicyArn=policy['Policy']['Arn']\n",
    ")\n",
    "    \n",
    "iam_client.delete_role(\n",
    "    RoleName=agent_role_name\n",
    ")"
   ]
  },
  {
   "cell_type": "code",
   "execution_count": 2,
   "metadata": {},
   "outputs": [
    {
     "name": "stdout",
     "output_type": "stream",
     "text": [
      "Requirement already satisfied: pyzmq in ./venv/lib/python3.13/site-packages (26.4.0)\n"
     ]
    }
   ],
   "source": [
    "!python3 -m pip install --only-binary :all: pyzmq"
   ]
  },
  {
   "cell_type": "code",
   "execution_count": 3,
   "metadata": {},
   "outputs": [
    {
     "name": "stdout",
     "output_type": "stream",
     "text": [
      "zsh:1: /Users/abhishek.nagpurkar/Documents/Example_Agents/venv/bin/jupyter: bad interpreter: /Users/abhishek.nagpurkar/Documents/Bedrock/venv/bin/python: no such file or directory\n"
     ]
    }
   ],
   "source": []
  },
  {
   "cell_type": "code",
   "execution_count": null,
   "metadata": {},
   "outputs": [],
   "source": []
  }
 ],
 "metadata": {
  "kernelspec": {
   "display_name": "venv",
   "language": "python",
   "name": "python3"
  },
  "language_info": {
   "codemirror_mode": {
    "name": "ipython",
    "version": 3
   },
   "file_extension": ".py",
   "mimetype": "text/x-python",
   "name": "python",
   "nbconvert_exporter": "python",
   "pygments_lexer": "ipython3",
   "version": "3.13.3"
  }
 },
 "nbformat": 4,
 "nbformat_minor": 2
}
