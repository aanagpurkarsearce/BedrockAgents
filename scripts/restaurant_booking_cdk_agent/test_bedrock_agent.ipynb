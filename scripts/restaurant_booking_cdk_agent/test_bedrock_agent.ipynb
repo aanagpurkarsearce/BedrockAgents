{
 "cells": [
  {
   "cell_type": "code",
   "execution_count": 4,
   "id": "fe8cd1e4",
   "metadata": {},
   "outputs": [],
   "source": [
    "import boto3\n",
    "\n",
    "agent_id = \"ZUFJCTUW6W\"  # from your deployment output\n",
    "agent_alias_id = \"ELOAMDMRKU\"  # default alias unless you've published a named one\n",
    "region = \"us-east-1\"\n",
    "session_id = \"test-session-001\"\n",
    "\n",
    "bedrock_agent_runtime = boto3.client(\"bedrock-agent-runtime\", region_name=region)\n"
   ]
  },
  {
   "cell_type": "code",
   "execution_count": 5,
   "id": "2077115f",
   "metadata": {},
   "outputs": [],
   "source": [
    "query = \"Book a table for 3 at 8pm tomorrow under the name Tony\"\n",
    "\n",
    "response = bedrock_agent_runtime.invoke_agent(\n",
    "    agentId=agent_id,\n",
    "    agentAliasId=agent_alias_id,\n",
    "    sessionId=session_id,\n",
    "    inputText=query\n",
    ")"
   ]
  },
  {
   "cell_type": "code",
   "execution_count": 6,
   "id": "cd2ffe81",
   "metadata": {},
   "outputs": [
    {
     "name": "stdout",
     "output_type": "stream",
     "text": [
      "Your booking has been successfully created. Here are the details:\n",
      "- Booking ID: 26d4abfb\n",
      "- Date: Tomorrow\n",
      "- Time: 8pm\n",
      "- Name: Tony\n",
      "- Number of Guests: 3\n",
      "\n"
     ]
    }
   ],
   "source": [
    "for event in response[\"completion\"]:\n",
    "    if \"chunk\" in event:\n",
    "        print(event[\"chunk\"][\"bytes\"].decode(\"utf-8\"))"
   ]
  },
  {
   "cell_type": "code",
   "execution_count": 7,
   "id": "8a12a3ab",
   "metadata": {},
   "outputs": [
    {
     "name": "stdout",
     "output_type": "stream",
     "text": [
      "Collecting agent-evaluation==0.2.0\n",
      "  Downloading agent_evaluation-0.2.0-py3-none-any.whl.metadata (3.8 kB)\n",
      "Requirement already satisfied: pyyaml~=6.0 in /Users/abhishek.nagpurkar/Documents/Example_Agents/venv/lib/python3.13/site-packages (from agent-evaluation==0.2.0) (6.0.2)\n",
      "Requirement already satisfied: boto3<2.0,>=1.34.20 in /Users/abhishek.nagpurkar/Documents/Example_Agents/venv/lib/python3.13/site-packages (from agent-evaluation==0.2.0) (1.38.24)\n",
      "Requirement already satisfied: click~=8.0 in /Users/abhishek.nagpurkar/Documents/Example_Agents/venv/lib/python3.13/site-packages (from agent-evaluation==0.2.0) (8.2.1)\n",
      "Requirement already satisfied: pydantic<3.0,>=2.1.0 in /Users/abhishek.nagpurkar/Documents/Example_Agents/venv/lib/python3.13/site-packages (from agent-evaluation==0.2.0) (2.10.2)\n",
      "Requirement already satisfied: rich<14.0,>=13.7.0 in /Users/abhishek.nagpurkar/Documents/Example_Agents/venv/lib/python3.13/site-packages (from agent-evaluation==0.2.0) (13.9.4)\n",
      "Requirement already satisfied: jinja2<4.0,>=3.1.3 in /Users/abhishek.nagpurkar/Documents/Example_Agents/venv/lib/python3.13/site-packages (from agent-evaluation==0.2.0) (3.1.6)\n",
      "Collecting jsonpath-ng<2.0,>=1.6.1 (from agent-evaluation==0.2.0)\n",
      "  Downloading jsonpath_ng-1.7.0-py3-none-any.whl.metadata (18 kB)\n",
      "Requirement already satisfied: botocore<1.39.0,>=1.38.24 in /Users/abhishek.nagpurkar/Documents/Example_Agents/venv/lib/python3.13/site-packages (from boto3<2.0,>=1.34.20->agent-evaluation==0.2.0) (1.38.24)\n",
      "Requirement already satisfied: jmespath<2.0.0,>=0.7.1 in /Users/abhishek.nagpurkar/Documents/Example_Agents/venv/lib/python3.13/site-packages (from boto3<2.0,>=1.34.20->agent-evaluation==0.2.0) (1.0.1)\n",
      "Requirement already satisfied: s3transfer<0.14.0,>=0.13.0 in /Users/abhishek.nagpurkar/Documents/Example_Agents/venv/lib/python3.13/site-packages (from boto3<2.0,>=1.34.20->agent-evaluation==0.2.0) (0.13.0)\n",
      "Requirement already satisfied: python-dateutil<3.0.0,>=2.1 in /Users/abhishek.nagpurkar/Documents/Example_Agents/venv/lib/python3.13/site-packages (from botocore<1.39.0,>=1.38.24->boto3<2.0,>=1.34.20->agent-evaluation==0.2.0) (2.9.0.post0)\n",
      "Requirement already satisfied: urllib3!=2.2.0,<3,>=1.25.4 in /Users/abhishek.nagpurkar/Documents/Example_Agents/venv/lib/python3.13/site-packages (from botocore<1.39.0,>=1.38.24->boto3<2.0,>=1.34.20->agent-evaluation==0.2.0) (2.4.0)\n",
      "Requirement already satisfied: MarkupSafe>=2.0 in /Users/abhishek.nagpurkar/Documents/Example_Agents/venv/lib/python3.13/site-packages (from jinja2<4.0,>=3.1.3->agent-evaluation==0.2.0) (3.0.2)\n",
      "Collecting ply (from jsonpath-ng<2.0,>=1.6.1->agent-evaluation==0.2.0)\n",
      "  Downloading ply-3.11-py2.py3-none-any.whl.metadata (844 bytes)\n",
      "Requirement already satisfied: annotated-types>=0.6.0 in /Users/abhishek.nagpurkar/Documents/Example_Agents/venv/lib/python3.13/site-packages (from pydantic<3.0,>=2.1.0->agent-evaluation==0.2.0) (0.7.0)\n",
      "Requirement already satisfied: pydantic-core==2.27.1 in /Users/abhishek.nagpurkar/Documents/Example_Agents/venv/lib/python3.13/site-packages (from pydantic<3.0,>=2.1.0->agent-evaluation==0.2.0) (2.27.1)\n",
      "Requirement already satisfied: typing-extensions>=4.12.2 in /Users/abhishek.nagpurkar/Documents/Example_Agents/venv/lib/python3.13/site-packages (from pydantic<3.0,>=2.1.0->agent-evaluation==0.2.0) (4.13.2)\n",
      "Requirement already satisfied: six>=1.5 in /Users/abhishek.nagpurkar/Documents/Example_Agents/venv/lib/python3.13/site-packages (from python-dateutil<3.0.0,>=2.1->botocore<1.39.0,>=1.38.24->boto3<2.0,>=1.34.20->agent-evaluation==0.2.0) (1.17.0)\n",
      "Requirement already satisfied: markdown-it-py>=2.2.0 in /Users/abhishek.nagpurkar/Documents/Example_Agents/venv/lib/python3.13/site-packages (from rich<14.0,>=13.7.0->agent-evaluation==0.2.0) (3.0.0)\n",
      "Requirement already satisfied: pygments<3.0.0,>=2.13.0 in /Users/abhishek.nagpurkar/Documents/Example_Agents/venv/lib/python3.13/site-packages (from rich<14.0,>=13.7.0->agent-evaluation==0.2.0) (2.19.1)\n",
      "Requirement already satisfied: mdurl~=0.1 in /Users/abhishek.nagpurkar/Documents/Example_Agents/venv/lib/python3.13/site-packages (from markdown-it-py>=2.2.0->rich<14.0,>=13.7.0->agent-evaluation==0.2.0) (0.1.2)\n",
      "Downloading agent_evaluation-0.2.0-py3-none-any.whl (34 kB)\n",
      "Downloading jsonpath_ng-1.7.0-py3-none-any.whl (30 kB)\n",
      "Downloading ply-3.11-py2.py3-none-any.whl (49 kB)\n",
      "Installing collected packages: ply, jsonpath-ng, agent-evaluation\n",
      "\u001b[2K   \u001b[90m━━━━━━━━━━━━━━━━━━━━━━━━━━━━━━━━━━━━━━━━\u001b[0m \u001b[32m3/3\u001b[0m [agent-evaluation]\n",
      "\u001b[1A\u001b[2KSuccessfully installed agent-evaluation-0.2.0 jsonpath-ng-1.7.0 ply-3.11\n"
     ]
    }
   ],
   "source": [
    "!python3 -m pip install agent-evaluation==0.2.0"
   ]
  },
  {
   "cell_type": "code",
   "execution_count": 8,
   "id": "9d7d6d5f",
   "metadata": {},
   "outputs": [
    {
     "name": "stdout",
     "output_type": "stream",
     "text": [
      "/Users/abhishek.nagpurkar/Documents/Example_Agents/venv/bin/agenteval\n"
     ]
    }
   ],
   "source": [
    "!which agenteval"
   ]
  },
  {
   "cell_type": "code",
   "execution_count": 11,
   "id": "6850788a",
   "metadata": {},
   "outputs": [
    {
     "name": "stdout",
     "output_type": "stream",
     "text": [
      "Agent ID: ZUFJCTUW6W\n",
      "Alias ID: ELOAMDMRKU\n"
     ]
    }
   ],
   "source": [
    "# Assuming agent_id and alias_id are already defined\n",
    "print(f\"Agent ID: {agent_id}\")  # Prints the Agent ID for reference\n",
    "print(f\"Alias ID: {agent_alias_id}\")  # Prints the Alias ID for reference\n",
    "\n",
    "# First, read the YAML file\n",
    "with open('agenteval.yml', 'r') as file:\n",
    "    content = file.read()\n",
    "# Replace the values\n",
    "updated_content = content.replace('[agent_id]', agent_id)\n",
    "updated_content = updated_content.replace('None', agent_alias_id)\n",
    "# Write back to the file\n",
    "with open('agenteval.yml', 'w') as file:\n",
    "    file.write(updated_content)"
   ]
  },
  {
   "cell_type": "code",
   "execution_count": 16,
   "id": "16d7bf1c",
   "metadata": {},
   "outputs": [
    {
     "name": "stdout",
     "output_type": "stream",
     "text": [
      "\u001b[2;36m[18:48:06]\u001b[0m\u001b[2;36m \u001b[0m\u001b[34mINFO    \u001b[0m Starting \u001b[1;36m2\u001b[0m tests with \u001b[1;36m2\u001b[0m threads.                \u001b]8;id=730946;file:///Users/abhishek.nagpurkar/Documents/Example_Agents/venv/lib/python3.13/site-packages/agenteval/runner/runner.py\u001b\\\u001b[2mrunner.py\u001b[0m\u001b]8;;\u001b\\\u001b[2m:\u001b[0m\u001b]8;id=835757;file:///Users/abhishek.nagpurkar/Documents/Example_Agents/venv/lib/python3.13/site-packages/agenteval/runner/runner.py#84\u001b\\\u001b[2m84\u001b[0m\u001b]8;;\u001b\\\n",
      "\u001b[2Krunning... \u001b[90m━━━━━━━━━━━━━━━━━━━━━━━━━━━━━━━━━━━━━━━━\u001b[0m \u001b[35m100%\u001b[0m \u001b[36m0:00:00\u001b[0mm \u001b[36m-:--:--\u001b[0m\n",
      "\u001b[1A\u001b[2K\u001b[2;36m[18:48:43]\u001b[0m\u001b[2;36m \u001b[0m\u001b[34mINFO    \u001b[0m \u001b[1;36m2\u001b[0m\u001b[32m passed.\u001b[0m                                      \u001b]8;id=606444;file:///Users/abhishek.nagpurkar/Documents/Example_Agents/venv/lib/python3.13/site-packages/agenteval/runner/runner.py\u001b\\\u001b[2mrunner.py\u001b[0m\u001b]8;;\u001b\\\u001b[2m:\u001b[0m\u001b]8;id=703891;file:///Users/abhishek.nagpurkar/Documents/Example_Agents/venv/lib/python3.13/site-packages/agenteval/runner/runner.py#108\u001b\\\u001b[2m108\u001b[0m\u001b]8;;\u001b\\\n",
      "\u001b[2;36m          \u001b[0m\u001b[2;36m \u001b[0m\u001b[34mINFO    \u001b[0m Completed in \u001b[1;36m36.69\u001b[0m seconds.                     \u001b]8;id=110245;file:///Users/abhishek.nagpurkar/Documents/Example_Agents/venv/lib/python3.13/site-packages/agenteval/runner/runner.py\u001b\\\u001b[2mrunner.py\u001b[0m\u001b]8;;\u001b\\\u001b[2m:\u001b[0m\u001b]8;id=129974;file:///Users/abhishek.nagpurkar/Documents/Example_Agents/venv/lib/python3.13/site-packages/agenteval/runner/runner.py#88\u001b\\\u001b[2m88\u001b[0m\u001b]8;;\u001b\\\n"
     ]
    }
   ],
   "source": [
    "!agenteval run"
   ]
  },
  {
   "cell_type": "code",
   "execution_count": null,
   "id": "ea1eebaa",
   "metadata": {},
   "outputs": [],
   "source": []
  }
 ],
 "metadata": {
  "kernelspec": {
   "display_name": "venv",
   "language": "python",
   "name": "python3"
  },
  "language_info": {
   "codemirror_mode": {
    "name": "ipython",
    "version": 3
   },
   "file_extension": ".py",
   "mimetype": "text/x-python",
   "name": "python",
   "nbconvert_exporter": "python",
   "pygments_lexer": "ipython3",
   "version": "3.13.3"
  }
 },
 "nbformat": 4,
 "nbformat_minor": 5
}
